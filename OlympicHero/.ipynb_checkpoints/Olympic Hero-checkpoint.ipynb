{
 "cells": [
  {
   "cell_type": "markdown",
   "metadata": {},
   "source": [
    "### Problem Statement\n",
    "The Olympic Games, considered to be the world's foremost sports competition has more than 200 nations participating across the Summer and Winter Games alternating by occurring every four years but two years apart.\n",
    "\n",
    "Throughout this project, we will explore the Olympics dataset(scraped from https://en.wikipedia.org/wiki/All-time_Olympic_Games_medal_table) , look at some interesting statistics and then try to find out which country is the King of Olympic Games.\n",
    "\n"
   ]
  },
  {
   "cell_type": "code",
   "execution_count": 27,
   "metadata": {},
   "outputs": [
    {
     "data": {
      "text/html": [
       "<div>\n",
       "<style scoped>\n",
       "    .dataframe tbody tr th:only-of-type {\n",
       "        vertical-align: middle;\n",
       "    }\n",
       "\n",
       "    .dataframe tbody tr th {\n",
       "        vertical-align: top;\n",
       "    }\n",
       "\n",
       "    .dataframe thead th {\n",
       "        text-align: right;\n",
       "    }\n",
       "</style>\n",
       "<table border=\"1\" class=\"dataframe\">\n",
       "  <thead>\n",
       "    <tr style=\"text-align: right;\">\n",
       "      <th></th>\n",
       "      <th>Country_Name</th>\n",
       "      <th># Summer</th>\n",
       "      <th>Gold_Summer</th>\n",
       "      <th>Silver_Summer</th>\n",
       "      <th>Bronze_Summer</th>\n",
       "      <th>Total_Summer</th>\n",
       "      <th># Winter</th>\n",
       "      <th>Gold_Winter</th>\n",
       "      <th>Silver_Winter</th>\n",
       "      <th>Bronze_Winter</th>\n",
       "      <th>Total_Winter</th>\n",
       "      <th># Games</th>\n",
       "      <th>Gold_Total</th>\n",
       "      <th>Silver_Total</th>\n",
       "      <th>Bronze_Total</th>\n",
       "      <th>Total_Medals</th>\n",
       "    </tr>\n",
       "  </thead>\n",
       "  <tbody>\n",
       "    <tr>\n",
       "      <th>0</th>\n",
       "      <td>Afghanistan</td>\n",
       "      <td>13</td>\n",
       "      <td>0</td>\n",
       "      <td>0</td>\n",
       "      <td>2</td>\n",
       "      <td>2</td>\n",
       "      <td>0</td>\n",
       "      <td>0</td>\n",
       "      <td>0</td>\n",
       "      <td>0</td>\n",
       "      <td>0</td>\n",
       "      <td>13</td>\n",
       "      <td>0</td>\n",
       "      <td>0</td>\n",
       "      <td>2</td>\n",
       "      <td>2</td>\n",
       "    </tr>\n",
       "    <tr>\n",
       "      <th>1</th>\n",
       "      <td>Algeria</td>\n",
       "      <td>12</td>\n",
       "      <td>5</td>\n",
       "      <td>2</td>\n",
       "      <td>8</td>\n",
       "      <td>15</td>\n",
       "      <td>3</td>\n",
       "      <td>0</td>\n",
       "      <td>0</td>\n",
       "      <td>0</td>\n",
       "      <td>0</td>\n",
       "      <td>15</td>\n",
       "      <td>5</td>\n",
       "      <td>2</td>\n",
       "      <td>8</td>\n",
       "      <td>15</td>\n",
       "    </tr>\n",
       "    <tr>\n",
       "      <th>2</th>\n",
       "      <td>Argentina</td>\n",
       "      <td>23</td>\n",
       "      <td>18</td>\n",
       "      <td>24</td>\n",
       "      <td>28</td>\n",
       "      <td>70</td>\n",
       "      <td>18</td>\n",
       "      <td>0</td>\n",
       "      <td>0</td>\n",
       "      <td>0</td>\n",
       "      <td>0</td>\n",
       "      <td>41</td>\n",
       "      <td>18</td>\n",
       "      <td>24</td>\n",
       "      <td>28</td>\n",
       "      <td>70</td>\n",
       "    </tr>\n",
       "    <tr>\n",
       "      <th>3</th>\n",
       "      <td>Armenia</td>\n",
       "      <td>5</td>\n",
       "      <td>1</td>\n",
       "      <td>2</td>\n",
       "      <td>9</td>\n",
       "      <td>12</td>\n",
       "      <td>6</td>\n",
       "      <td>0</td>\n",
       "      <td>0</td>\n",
       "      <td>0</td>\n",
       "      <td>0</td>\n",
       "      <td>11</td>\n",
       "      <td>1</td>\n",
       "      <td>2</td>\n",
       "      <td>9</td>\n",
       "      <td>12</td>\n",
       "    </tr>\n",
       "    <tr>\n",
       "      <th>4</th>\n",
       "      <td>Australasia</td>\n",
       "      <td>2</td>\n",
       "      <td>3</td>\n",
       "      <td>4</td>\n",
       "      <td>5</td>\n",
       "      <td>12</td>\n",
       "      <td>0</td>\n",
       "      <td>0</td>\n",
       "      <td>0</td>\n",
       "      <td>0</td>\n",
       "      <td>0</td>\n",
       "      <td>2</td>\n",
       "      <td>3</td>\n",
       "      <td>4</td>\n",
       "      <td>5</td>\n",
       "      <td>12</td>\n",
       "    </tr>\n",
       "  </tbody>\n",
       "</table>\n",
       "</div>"
      ],
      "text/plain": [
       "  Country_Name  # Summer  Gold_Summer  Silver_Summer  Bronze_Summer  \\\n",
       "0  Afghanistan        13            0              0              2   \n",
       "1      Algeria        12            5              2              8   \n",
       "2    Argentina        23           18             24             28   \n",
       "3      Armenia         5            1              2              9   \n",
       "4  Australasia         2            3              4              5   \n",
       "\n",
       "   Total_Summer  # Winter  Gold_Winter  Silver_Winter  Bronze_Winter  \\\n",
       "0             2         0            0              0              0   \n",
       "1            15         3            0              0              0   \n",
       "2            70        18            0              0              0   \n",
       "3            12         6            0              0              0   \n",
       "4            12         0            0              0              0   \n",
       "\n",
       "   Total_Winter  # Games  Gold_Total  Silver_Total  Bronze_Total  Total_Medals  \n",
       "0             0       13           0             0             2             2  \n",
       "1             0       15           5             2             8            15  \n",
       "2             0       41          18            24            28            70  \n",
       "3             0       11           1             2             9            12  \n",
       "4             0        2           3             4             5            12  "
      ]
     },
     "execution_count": 27,
     "metadata": {},
     "output_type": "execute_result"
    }
   ],
   "source": [
    "#Task 1 - Data Loading\n",
    "#Importing header files\n",
    "import pandas as pd\n",
    "import numpy as np\n",
    "import matplotlib.pyplot as plt\n",
    "\n",
    "#Path of the file\n",
    "data = pd.read_csv('file.csv')\n",
    "data.rename(columns={'Total':'Total_Medals'}, inplace=True)\n",
    "data.head()\n",
    "\n",
    "#Code starts here"
   ]
  },
  {
   "cell_type": "markdown",
   "metadata": {},
   "source": [
    "### Data Loading\n",
    "Data Loading\n",
    "Let's start with the simple task of loading the data and do a little bit of renaming.\n",
    "\n",
    "Instructions :\n",
    "Load the dataframe from the path using pd.read_csv() and store the dataframe in a variable called 'data'.\n",
    "\n",
    "In the dataframe, rename the column Total to Total_Medals\n",
    "\n",
    "Display first 10 records using \"head()\" function to take a look at the dataframe."
   ]
  },
  {
   "cell_type": "code",
   "execution_count": 29,
   "metadata": {},
   "outputs": [
    {
     "data": {
      "text/html": [
       "<div>\n",
       "<style scoped>\n",
       "    .dataframe tbody tr th:only-of-type {\n",
       "        vertical-align: middle;\n",
       "    }\n",
       "\n",
       "    .dataframe tbody tr th {\n",
       "        vertical-align: top;\n",
       "    }\n",
       "\n",
       "    .dataframe thead th {\n",
       "        text-align: right;\n",
       "    }\n",
       "</style>\n",
       "<table border=\"1\" class=\"dataframe\">\n",
       "  <thead>\n",
       "    <tr style=\"text-align: right;\">\n",
       "      <th></th>\n",
       "      <th>Country_Name</th>\n",
       "      <th># Summer</th>\n",
       "      <th>Gold_Summer</th>\n",
       "      <th>Silver_Summer</th>\n",
       "      <th>Bronze_Summer</th>\n",
       "      <th>Total_Summer</th>\n",
       "      <th># Winter</th>\n",
       "      <th>Gold_Winter</th>\n",
       "      <th>Silver_Winter</th>\n",
       "      <th>Bronze_Winter</th>\n",
       "      <th>Total_Winter</th>\n",
       "      <th># Games</th>\n",
       "      <th>Gold_Total</th>\n",
       "      <th>Silver_Total</th>\n",
       "      <th>Bronze_Total</th>\n",
       "      <th>Total_Medals</th>\n",
       "    </tr>\n",
       "  </thead>\n",
       "  <tbody>\n",
       "    <tr>\n",
       "      <th>0</th>\n",
       "      <td>Afghanistan</td>\n",
       "      <td>13</td>\n",
       "      <td>0</td>\n",
       "      <td>0</td>\n",
       "      <td>2</td>\n",
       "      <td>2</td>\n",
       "      <td>0</td>\n",
       "      <td>0</td>\n",
       "      <td>0</td>\n",
       "      <td>0</td>\n",
       "      <td>0</td>\n",
       "      <td>13</td>\n",
       "      <td>0</td>\n",
       "      <td>0</td>\n",
       "      <td>2</td>\n",
       "      <td>2</td>\n",
       "    </tr>\n",
       "    <tr>\n",
       "      <th>1</th>\n",
       "      <td>Algeria</td>\n",
       "      <td>12</td>\n",
       "      <td>5</td>\n",
       "      <td>2</td>\n",
       "      <td>8</td>\n",
       "      <td>15</td>\n",
       "      <td>3</td>\n",
       "      <td>0</td>\n",
       "      <td>0</td>\n",
       "      <td>0</td>\n",
       "      <td>0</td>\n",
       "      <td>15</td>\n",
       "      <td>5</td>\n",
       "      <td>2</td>\n",
       "      <td>8</td>\n",
       "      <td>15</td>\n",
       "    </tr>\n",
       "    <tr>\n",
       "      <th>2</th>\n",
       "      <td>Argentina</td>\n",
       "      <td>23</td>\n",
       "      <td>18</td>\n",
       "      <td>24</td>\n",
       "      <td>28</td>\n",
       "      <td>70</td>\n",
       "      <td>18</td>\n",
       "      <td>0</td>\n",
       "      <td>0</td>\n",
       "      <td>0</td>\n",
       "      <td>0</td>\n",
       "      <td>41</td>\n",
       "      <td>18</td>\n",
       "      <td>24</td>\n",
       "      <td>28</td>\n",
       "      <td>70</td>\n",
       "    </tr>\n",
       "    <tr>\n",
       "      <th>3</th>\n",
       "      <td>Armenia</td>\n",
       "      <td>5</td>\n",
       "      <td>1</td>\n",
       "      <td>2</td>\n",
       "      <td>9</td>\n",
       "      <td>12</td>\n",
       "      <td>6</td>\n",
       "      <td>0</td>\n",
       "      <td>0</td>\n",
       "      <td>0</td>\n",
       "      <td>0</td>\n",
       "      <td>11</td>\n",
       "      <td>1</td>\n",
       "      <td>2</td>\n",
       "      <td>9</td>\n",
       "      <td>12</td>\n",
       "    </tr>\n",
       "    <tr>\n",
       "      <th>4</th>\n",
       "      <td>Australasia</td>\n",
       "      <td>2</td>\n",
       "      <td>3</td>\n",
       "      <td>4</td>\n",
       "      <td>5</td>\n",
       "      <td>12</td>\n",
       "      <td>0</td>\n",
       "      <td>0</td>\n",
       "      <td>0</td>\n",
       "      <td>0</td>\n",
       "      <td>0</td>\n",
       "      <td>2</td>\n",
       "      <td>3</td>\n",
       "      <td>4</td>\n",
       "      <td>5</td>\n",
       "      <td>12</td>\n",
       "    </tr>\n",
       "  </tbody>\n",
       "</table>\n",
       "</div>"
      ],
      "text/plain": [
       "  Country_Name  # Summer  Gold_Summer  Silver_Summer  Bronze_Summer  \\\n",
       "0  Afghanistan        13            0              0              2   \n",
       "1      Algeria        12            5              2              8   \n",
       "2    Argentina        23           18             24             28   \n",
       "3      Armenia         5            1              2              9   \n",
       "4  Australasia         2            3              4              5   \n",
       "\n",
       "   Total_Summer  # Winter  Gold_Winter  Silver_Winter  Bronze_Winter  \\\n",
       "0             2         0            0              0              0   \n",
       "1            15         3            0              0              0   \n",
       "2            70        18            0              0              0   \n",
       "3            12         6            0              0              0   \n",
       "4            12         0            0              0              0   \n",
       "\n",
       "   Total_Winter  # Games  Gold_Total  Silver_Total  Bronze_Total  Total_Medals  \n",
       "0             0       13           0             0             2             2  \n",
       "1             0       15           5             2             8            15  \n",
       "2             0       41          18            24            28            70  \n",
       "3             0       11           1             2             9            12  \n",
       "4             0        2           3             4             5            12  "
      ]
     },
     "execution_count": 29,
     "metadata": {},
     "output_type": "execute_result"
    }
   ],
   "source": [
    "#Task 1 - Data Loading\n",
    "#Importing header files\n",
    "import pandas as pd\n",
    "import numpy as np\n",
    "import matplotlib.pyplot as plt\n",
    "\n",
    "#Path of the file\n",
    "path= 'file.csv'\n",
    "data = pd.read_csv(path)\n",
    "data.rename(columns={'Total':'Total_Medals'}, inplace=True)\n",
    "data.head()\n",
    "#Code end"
   ]
  },
  {
   "cell_type": "markdown",
   "metadata": {},
   "source": [
    "### Summer or Winter\n",
    "Some Countries love Summer, some Winter. We think it has to do something with their Olympic performance.\n",
    "\n",
    "For this task we will try to figure out which olympic event does a country perform better in.\n",
    "\n",
    "Instructions :\n",
    "Create a new column Better_Event that stores 'Summer','Winter' or 'Both' based on the comparision between the total medals won in Summer event and Winter event (i.e. comparision between the Total_Summer and Total_Winter columns) using \n",
    "\"np.where()\"function.\n",
    "\n",
    "Find out which has been a better event with respect to all the performing countries by using value_counts() function and store it in a new variable called 'better_event'."
   ]
  },
  {
   "cell_type": "code",
   "execution_count": 2,
   "metadata": {},
   "outputs": [
    {
     "data": {
      "text/plain": [
       "'data = {\\'name\\': [\\'A\\', \\'B\\', \\'C\\', \\'D\\', \\'E\\'], \\n        \\'age\\': [12, 66, 22, 80, 7], \\n        \\'gender\\': [\\'M\\', \\'F\\', \\'F\\', \\'M\\', \\'M\\'],\\n        }\\ndf = pd.DataFrame(data, columns = [\\'name\\', \\'age\\', \\'gender\\'])\\n\\nprint(\"dataframe before: \\n\",df)\\n\\n\"\"\"\\nCreating a new column called senior_citizen where the value is yes \\nif df.age is greater than 60 and no if not\\n\"\"\"\\ndf[\\'senior_citizen\\'] = np.where(df[\\'age\\']>=60, \\'yes\\', \\'no\\')\\nprint(\"dataframe after:\\n\",df)'"
      ]
     },
     "execution_count": 2,
     "metadata": {},
     "output_type": "execute_result"
    }
   ],
   "source": [
    "'''data = {'name': ['A', 'B', 'C', 'D', 'E'], \n",
    "        'age': [12, 66, 22, 80, 7], \n",
    "        'gender': ['M', 'F', 'F', 'M', 'M'],\n",
    "        }\n",
    "df = pd.DataFrame(data, columns = ['name', 'age', 'gender'])\n",
    "\n",
    "print(\"dataframe before: \\n\",df)\n",
    "\n",
    "\"\"\"\n",
    "Creating a new column called senior_citizen where the value is yes \n",
    "if df.age is greater than 60 and no if not\n",
    "\"\"\"\n",
    "df['senior_citizen'] = np.where(df['age']>=60, 'yes', 'no')\n",
    "print(\"dataframe after:\\n\",df)'''"
   ]
  },
  {
   "cell_type": "code",
   "execution_count": 2,
   "metadata": {},
   "outputs": [
    {
     "name": "stdout",
     "output_type": "stream",
     "text": [
      "Summer\n"
     ]
    }
   ],
   "source": [
    "data['Better_Event'] = np.where(data['Total_Summer'] > data['Total_Winter'],'Summer','Winter')\n",
    "data['Better_Event'] = np.where(data['Total_Summer'] == data['Total_Winter'],'Both',data['Better_Event'])\n",
    "Better_Event = data['Better_Event'].value_counts().idxmax()\n",
    "\n",
    "print(Better_Event)"
   ]
  },
  {
   "cell_type": "code",
   "execution_count": 30,
   "metadata": {},
   "outputs": [
    {
     "name": "stdout",
     "output_type": "stream",
     "text": [
      "Better_Event= Summer\n"
     ]
    }
   ],
   "source": [
    "#Code starts here\n",
    "\n",
    "#Creating new column 'Better_Event'\n",
    "data['Better_Event'] = np.where(data['Total_Summer'] > data['Total_Winter'] , 'Summer', 'Winter')\n",
    "data['Better_Event'] = np.where(data['Total_Summer'] == data['Total_Winter'] , 'Both', data['Better_Event'])\n",
    "\n",
    "#Finding the value with max count in 'Better_Event' column\n",
    "better_event=data['Better_Event'].value_counts().index.values[0]\n",
    "\n",
    "#Printing the better event\n",
    "print('Better_Event=', better_event)\n",
    "\n",
    "    \n",
    "#Code ends here   "
   ]
  },
  {
   "cell_type": "markdown",
   "metadata": {},
   "source": [
    "### Top 10\n",
    "So we figured out which is a better event for each country. Let's move on to finding out the best performing countries across all events\n",
    "\n",
    "In this task we will try to find\n",
    "\n",
    "Which are the top 10 performing teams at summer event (with respect to total medals), winter event and overall?\n",
    "How many teams are present in all of the three lists above?\n",
    "Instructions :\n",
    "Create a new dataframe subset called 'top_countries' with the columns ['Country_Name','Total_Summer', 'Total_Winter','Total_Medals'] only\n",
    "\n",
    "Drop the last row from 'top_countries'(The last row contains the sum of the medals)\n",
    "\n",
    "Create a function called 'top_ten' that:\n",
    "\n",
    "Takes the dataframe 'top_countries' and a column name as parameters.\n",
    "\n",
    "Creates a new empty list called 'country_list'\n",
    "\n",
    "Find the top 10 values for that particular column(for e.g. 'Total_Summer') using \"nlargest()\" function\n",
    "\n",
    "From the dataframe returned by nlargest function, slices the Country_Name column and stores it in the 'country_list' list\n",
    "\n",
    "Returns the 'country_list'\n",
    "\n",
    "Call the 'top_ten()' function for the three columns :Total_Summer,Total_Winter and Total_Medals and store their respective results in lists called 'top_10_summer', 'top_10_winter' and 'top_10'\n",
    "\n",
    "Create a new list 'common' that stores the common elements between the three lists('top_10_summer', 'top_10_winter' and 'top_10')"
   ]
  },
  {
   "cell_type": "code",
   "execution_count": 3,
   "metadata": {},
   "outputs": [
    {
     "name": "stdout",
     "output_type": "stream",
     "text": [
      "['Germany', 'Soviet Union', 'United States', 'Sweden']\n"
     ]
    },
    {
     "name": "stderr",
     "output_type": "stream",
     "text": [
      "C:\\ProgramData\\Anaconda3\\lib\\site-packages\\pandas\\core\\frame.py:3940: SettingWithCopyWarning: \n",
      "A value is trying to be set on a copy of a slice from a DataFrame\n",
      "\n",
      "See the caveats in the documentation: http://pandas.pydata.org/pandas-docs/stable/indexing.html#indexing-view-versus-copy\n",
      "  errors=errors)\n"
     ]
    }
   ],
   "source": [
    "top_countries = data[['Country_Name','Total_Summer','Total_Winter','Total_Medals']]\n",
    "top_countries.drop(top_countries.tail(1).index, inplace=True) #drop last row\n",
    "def top_ten(abc):\n",
    "    country_list = []\n",
    "    ids = top_countries.nlargest(10,abc)\n",
    "    country_list = ids['Country_Name']\n",
    "    return list(country_list)\n",
    "top_10_summer = top_ten('Total_Summer')\n",
    "top_10_winter = top_ten('Total_Winter')\n",
    "top_10 = top_ten('Total_Medals')\n",
    "common = list(set(top_10_summer) & set(top_10_winter) & set(top_10))\n",
    "print(common)"
   ]
  },
  {
   "cell_type": "code",
   "execution_count": 75,
   "metadata": {
    "scrolled": true
   },
   "outputs": [
    {
     "name": "stdout",
     "output_type": "stream",
     "text": [
      "Top 10 Summer:\n",
      " ['United States', 'Soviet Union', 'Great Britain', 'France', 'Germany', 'Italy', 'Sweden', 'Hungary', 'China', 'Australia'] \n",
      "\n",
      "Top 10 Winter:\n",
      " ['Norway', 'United States', 'Austria', 'Germany', 'Soviet Union', 'Canada', 'Finland', 'Sweden', 'Switzerland', 'Russia'] \n",
      "\n",
      "Top 10:\n",
      " ['United States', 'Soviet Union', 'Great Britain', 'Germany', 'France', 'Italy', 'Sweden', 'China', 'East Germany', 'Russia'] \n",
      "\n",
      "Common Countries :\n",
      " ['Sweden', 'United States', 'Soviet Union', 'Germany'] \n",
      "\n"
     ]
    }
   ],
   "source": [
    "#Code starts here\n",
    "\n",
    "#Subsetting the dataframe\n",
    "top_countries=data[['Country_Name','Total_Summer', 'Total_Winter','Total_Medals']]\n",
    "\n",
    "#Dropping the last row\n",
    "top_countries=top_countries[:-1]\n",
    "\n",
    "#Function for top 10\n",
    "def top_ten(data, col):\n",
    "    \n",
    "    #Creating a new list\n",
    "    country_list=[]\n",
    "    \n",
    "    #Finding the top 10 values of 'col' column\n",
    "    country_list= list((data.nlargest(10,col)['Country_Name']))\n",
    "    \n",
    "    #Returning the top 10 list\n",
    "    return country_list\n",
    "\n",
    "\n",
    "\n",
    "#Calling the function for Top 10 in Summer\n",
    "top_10_summer=top_ten(top_countries,'Total_Summer')\n",
    "print(\"Top 10 Summer:\\n\",top_10_summer, \"\\n\")\n",
    "\n",
    "#Calling the function for Top 10 in Winter\n",
    "top_10_winter=top_ten(top_countries,'Total_Winter')\n",
    "print(\"Top 10 Winter:\\n\",top_10_winter, \"\\n\")\n",
    "\n",
    "#Calling the function for Top 10 in both the events\n",
    "top_10=top_ten(top_countries,'Total_Medals')\n",
    "print(\"Top 10:\\n\",top_10, \"\\n\")\n",
    "\n",
    "#Extracting common country names from all three lists\n",
    "common=list(set(top_10_summer) & set(top_10_winter) & set(top_10))\n",
    "\n",
    "print('Common Countries :\\n', common, \"\\n\")\n",
    "\n",
    "#Code ends here"
   ]
  },
  {
   "cell_type": "markdown",
   "metadata": {},
   "source": [
    "### Plotting Top 10\n",
    "From the lists that you have created from the previous task, let's plot the medal count of the top 10 countries for better visualisation\n",
    "\n",
    "Instructions :\n",
    "Take the three previously created lists(top_10_summer, top_10_winter, top_10)\n",
    "\n",
    "Subset the dataframe 'data' based on the country names present in the list top_10_summer using \"isin()\" function on the column Country_Name. Store the new subsetted dataframes in 'summer_df'. Do the similar operation using top_10_winter and top_10 and store the subset dataframes in 'winter_df' & 'top_df' respectively.\n",
    "Take each subsetted dataframe and plot a bar graph between the country name and total medal count according to the event (For e.g. for 'summer_df' plot a bar graph between Country_Name and Total_Summer)\n",
    "\n",
    "Modify the axes info accordingly."
   ]
  },
  {
   "cell_type": "code",
   "execution_count": 8,
   "metadata": {},
   "outputs": [
    {
     "data": {
      "image/png": "[encoded data removed]",
      "text/plain": [
       "<Figure size 432x288 with 1 Axes>"
      ]
     },
     "metadata": {
      "needs_background": "light"
     },
     "output_type": "display_data"
    }
   ],
   "source": [
    "summer_df = data[data['Country_Name'].isin(top_10_summer)]\n",
    "winter_df = data[data['Country_Name'].isin(top_10_winter)]\n",
    "top_df = data[data['Country_Name'].isin(top_10)]\n",
    "summer_df['Total_Summer'].plot( kind='bar')\n",
    "winter_df['Total_Winter'].plot( kind='bar')\n",
    "top_df['Total_Medals'].plot(kind='bar')\n",
    "plt.show()"
   ]
  },
  {
   "cell_type": "code",
   "execution_count": 31,
   "metadata": {},
   "outputs": [
    {
     "name": "stdout",
     "output_type": "stream",
     "text": [
      "Top 10 Summer:\n",
      " ['United States', 'Soviet Union', 'Great Britain', 'France', 'Germany', 'Italy', 'Sweden', 'Hungary', 'China', 'Australia'] \n",
      "\n",
      "Top 10 Winter:\n",
      " ['Norway', 'United States', 'Austria', 'Germany', 'Soviet Union', 'Canada', 'Finland', 'Sweden', 'Switzerland', 'Russia'] \n",
      "\n",
      "Top 10:\n",
      " ['United States', 'Soviet Union', 'Great Britain', 'Germany', 'France', 'Italy', 'Sweden', 'China', 'East Germany', 'Russia'] \n",
      "\n",
      "Common Countries :\n",
      " ['Germany', 'Sweden', 'Soviet Union', 'United States'] \n",
      "\n"
     ]
    }
   ],
   "source": [
    "#Code starts here\n",
    "\n",
    "#Subsetting the dataframe\n",
    "top_countries=data[['Country_Name','Total_Summer', 'Total_Winter','Total_Medals']]\n",
    "\n",
    "#Dropping the last row\n",
    "top_countries=top_countries[:-1]\n",
    "\n",
    "#Function for top 10\n",
    "def top_ten(data, col):\n",
    "    \n",
    "    #Creating a new list\n",
    "    country_list=[]\n",
    "    \n",
    "    #Finding the top 10 values of 'col' column\n",
    "    country_list= list((data.nlargest(10,col)['Country_Name']))\n",
    "    \n",
    "    #Returning the top 10 list\n",
    "    return country_list\n",
    "\n",
    "\n",
    "\n",
    "#Calling the function for Top 10 in Summer\n",
    "top_10_summer=top_ten(top_countries,'Total_Summer')\n",
    "print(\"Top 10 Summer:\\n\",top_10_summer, \"\\n\")\n",
    "\n",
    "#Calling the function for Top 10 in Winter\n",
    "top_10_winter=top_ten(top_countries,'Total_Winter')\n",
    "print(\"Top 10 Winter:\\n\",top_10_winter, \"\\n\")\n",
    "\n",
    "#Calling the function for Top 10 in both the events\n",
    "top_10=top_ten(top_countries,'Total_Medals')\n",
    "print(\"Top 10:\\n\",top_10, \"\\n\")\n",
    "\n",
    "#Extracting common country names from all three lists\n",
    "common=list(set(top_10_summer) & set(top_10_winter) & set(top_10))\n",
    "\n",
    "print('Common Countries :\\n', common, \"\\n\")\n",
    "\n",
    "#Code ends here"
   ]
  },
  {
   "cell_type": "markdown",
   "metadata": {},
   "source": [
    "### Plotting Top 10\n",
    "From the lists that you have created from the previous task, let's plot the medal count of the top 10 countries for better visualisation"
   ]
  },
  {
   "cell_type": "code",
   "execution_count": 32,
   "metadata": {},
   "outputs": [
    {
     "data": {
      "text/plain": [
       "Text(0, 0.5, 'Total Medals')"
      ]
     },
     "execution_count": 32,
     "metadata": {},
     "output_type": "execute_result"
    },
    {
     "data": {
      "image/png": "[encoded data removed]",
      "text/plain": [
       "<Figure size 1440x432 with 1 Axes>"
      ]
     },
     "metadata": {
      "needs_background": "light"
     },
     "output_type": "display_data"
    },
    {
     "data": {
      "image/png": "[encoded data removed]",
      "text/plain": [
       "<Figure size 1440x432 with 1 Axes>"
      ]
     },
     "metadata": {
      "needs_background": "light"
     },
     "output_type": "display_data"
    },
    {
     "data": {
      "image/png": "[encoded data removed]",
      "text/plain": [
       "<Figure size 1440x432 with 1 Axes>"
      ]
     },
     "metadata": {
      "needs_background": "light"
     },
     "output_type": "display_data"
    }
   ],
   "source": [
    "#Code starts here\n",
    "\n",
    "#For Summer\n",
    "\n",
    "#Creating the dataframe for Summer event\n",
    "summer_df= data[data['Country_Name'].isin(top_10_summer)]\n",
    "\n",
    "#Plotting the bar graph\n",
    "plt.figure(figsize=(20, 6))\n",
    "plt.bar(summer_df['Country_Name'], summer_df['Total_Summer'])\n",
    "\n",
    "#Changing the graph title\n",
    "plt.title('Top 10 Summer')\n",
    "\n",
    "#Changing the x-axis label\n",
    "plt.xlabel('Country Name')\n",
    "\n",
    "#Changing the y-axis label\n",
    "plt.ylabel('Total Medals')\n",
    "\n",
    "\n",
    "#For Winter\n",
    "\n",
    "#Creating the dataframe for Winter event\n",
    "winter_df=data[data['Country_Name'].isin(top_10_winter)]\n",
    "\n",
    "#Plotting the bar graph\n",
    "plt.figure(figsize=(20, 6))\n",
    "plt.bar(winter_df['Country_Name'], winter_df['Total_Winter'])\n",
    "\n",
    "#Changing the graph title\n",
    "plt.title('Top 10 Winter')\n",
    "\n",
    "#Changing the x-axis label\n",
    "plt.xlabel('Country Name')\n",
    "\n",
    "#Changing the y-axis label\n",
    "plt.ylabel('Total Medals')\n",
    "\n",
    "\n",
    "\n",
    "#For both the events\n",
    "\n",
    "#Creating the dataframe for both the events\n",
    "top_df=data[data['Country_Name'].isin(top_10)]\n",
    "\n",
    "#Plotting the bar graph\n",
    "plt.figure(figsize=(20, 6))\n",
    "plt.bar(top_df['Country_Name'], top_df['Total_Medals'])\n",
    "\n",
    "#Changing the graph title\n",
    "plt.title('Top 10')\n",
    "\n",
    "#Changing the x-axis label\n",
    "plt.xlabel('Country Name')\n",
    "\n",
    "#Changing the y-axis label\n",
    "plt.ylabel('Total Medals')\n"
   ]
  },
  {
   "cell_type": "markdown",
   "metadata": {},
   "source": [
    "### Top performing country(Gold)\n",
    "Winning silver or bronze medals is a big achievement but winning gold is bigger.\n",
    "\n",
    "Using the above created dataframe subsets, in this task let's find out which country has had the best performance with respect to the ratio between gold medals won and total medals won.\n",
    "\n",
    "Instructions :\n",
    "In the dataframe 'summer_df'(created in the previous function) , create a new column Golden_Ratio which is the quotient after dividing the two columns Gold_Summer and Total_Summer.\n",
    "\n",
    "Find the max value of Golden_Ratio and the country associated with it and store them in summer_max_ratio and summer_country_gold respectively.\n",
    "\n",
    "In the dataframe 'winter_df'(created in the previous function) , create a new column Golden_Ratio which is the quotient after dividing the two columns Gold_Winter and Total_Winter.\n",
    "\n",
    "Find the max value of Golden_Ratio and the country associated with it and store them in 'winter_max_ratio' and 'winter_country_gold' respectively.\n",
    "\n",
    "In the dataframe top_df'(created in the previous function) , create a new column Golden_Ratio which is the quotient after dividing the two columns Gold_Total and Total_Medals.\n",
    "\n",
    "Find the max value of Golden_Ratio and the country associated with it and store them in top_max_ratio' and 'top_country_gold' respectively."
   ]
  },
  {
   "cell_type": "code",
   "execution_count": 33,
   "metadata": {},
   "outputs": [
    {
     "name": "stdout",
     "output_type": "stream",
     "text": [
      "China\n",
      "Soviet Union\n",
      "China\n"
     ]
    },
    {
     "name": "stderr",
     "output_type": "stream",
     "text": [
      "C:\\ProgramData\\Anaconda3\\lib\\site-packages\\ipykernel_launcher.py:2: SettingWithCopyWarning: \n",
      "A value is trying to be set on a copy of a slice from a DataFrame.\n",
      "Try using .loc[row_indexer,col_indexer] = value instead\n",
      "\n",
      "See the caveats in the documentation: http://pandas.pydata.org/pandas-docs/stable/indexing.html#indexing-view-versus-copy\n",
      "  \n",
      "C:\\ProgramData\\Anaconda3\\lib\\site-packages\\ipykernel_launcher.py:7: SettingWithCopyWarning: \n",
      "A value is trying to be set on a copy of a slice from a DataFrame.\n",
      "Try using .loc[row_indexer,col_indexer] = value instead\n",
      "\n",
      "See the caveats in the documentation: http://pandas.pydata.org/pandas-docs/stable/indexing.html#indexing-view-versus-copy\n",
      "  import sys\n",
      "C:\\ProgramData\\Anaconda3\\lib\\site-packages\\ipykernel_launcher.py:11: SettingWithCopyWarning: \n",
      "A value is trying to be set on a copy of a slice from a DataFrame.\n",
      "Try using .loc[row_indexer,col_indexer] = value instead\n",
      "\n",
      "See the caveats in the documentation: http://pandas.pydata.org/pandas-docs/stable/indexing.html#indexing-view-versus-copy\n",
      "  # This is added back by InteractiveShellApp.init_path()\n"
     ]
    }
   ],
   "source": [
    "#Code starts here\n",
    "summer_df['Golden_Ratio'] = summer_df['Gold_Summer'] / summer_df['Total_Summer']\n",
    "summer_max_ratio = summer_df['Golden_Ratio'].max()\n",
    "\n",
    "summer_country_gold = summer_df[summer_df['Golden_Ratio']==summer_max_ratio]['Country_Name'].values[0]\n",
    "print(summer_country_gold)\n",
    "winter_df['Golden_Ratio'] = winter_df['Gold_Winter'] / winter_df['Total_Winter']\n",
    "winter_max_ratio = winter_df['Golden_Ratio'].max()\n",
    "winter_country_gold = winter_df[winter_df['Golden_Ratio']==winter_max_ratio]['Country_Name'].values[0]\n",
    "print(winter_country_gold)\n",
    "top_df['Golden_Ratio'] = top_df['Gold_Total'] / top_df['Total_Medals']\n",
    "top_max_ratio = top_df['Golden_Ratio'].max()\n",
    "top_country_gold = top_df[top_df['Golden_Ratio']== top_max_ratio]['Country_Name'].values[0]\n",
    "print(top_country_gold)"
   ]
  },
  {
   "cell_type": "code",
   "execution_count": 34,
   "metadata": {
    "scrolled": true
   },
   "outputs": [
    {
     "name": "stdout",
     "output_type": "stream",
     "text": [
      "Top Summer Country: China  with a ratio of 0.42\n",
      "Top Winter Country: Soviet Union  with a ratio of 0.40\n",
      "Top Country: China  with a ratio of 0.40\n"
     ]
    },
    {
     "name": "stderr",
     "output_type": "stream",
     "text": [
      "C:\\ProgramData\\Anaconda3\\lib\\site-packages\\ipykernel_launcher.py:6: SettingWithCopyWarning: \n",
      "A value is trying to be set on a copy of a slice from a DataFrame.\n",
      "Try using .loc[row_indexer,col_indexer] = value instead\n",
      "\n",
      "See the caveats in the documentation: http://pandas.pydata.org/pandas-docs/stable/indexing.html#indexing-view-versus-copy\n",
      "  \n",
      "C:\\ProgramData\\Anaconda3\\lib\\site-packages\\ipykernel_launcher.py:21: SettingWithCopyWarning: \n",
      "A value is trying to be set on a copy of a slice from a DataFrame.\n",
      "Try using .loc[row_indexer,col_indexer] = value instead\n",
      "\n",
      "See the caveats in the documentation: http://pandas.pydata.org/pandas-docs/stable/indexing.html#indexing-view-versus-copy\n",
      "C:\\ProgramData\\Anaconda3\\lib\\site-packages\\ipykernel_launcher.py:36: SettingWithCopyWarning: \n",
      "A value is trying to be set on a copy of a slice from a DataFrame.\n",
      "Try using .loc[row_indexer,col_indexer] = value instead\n",
      "\n",
      "See the caveats in the documentation: http://pandas.pydata.org/pandas-docs/stable/indexing.html#indexing-view-versus-copy\n"
     ]
    }
   ],
   "source": [
    "#Code starts here\n",
    "\n",
    "#For Summer List\n",
    "\n",
    "#Creating new column 'Golden_Ratio'\n",
    "summer_df['Golden_Ratio']=summer_df['Gold_Summer']/summer_df['Total_Summer']\n",
    "\n",
    "\n",
    "#Finding the max value of 'Golden_Ratio' column\n",
    "summer_max_ratio=max(summer_df['Golden_Ratio'])\n",
    "\n",
    "#Finding the country assosciated with the max value of 'Golden_Ratio' column\n",
    "summer_country_gold=summer_df.loc[summer_df['Golden_Ratio'].idxmax(),'Country_Name']\n",
    "\n",
    "print(\"Top Summer Country:\", summer_country_gold, \" with a ratio of %.2f\" %summer_max_ratio )\n",
    "\n",
    "\n",
    "#For Winter List\n",
    "\n",
    "#Creating new column 'Golden_Ratio'\n",
    "winter_df['Golden_Ratio']=winter_df['Gold_Winter']/winter_df['Total_Winter']\n",
    "\n",
    "\n",
    "#Finding the max value of 'Golden_Ratio' column\n",
    "winter_max_ratio=max(winter_df['Golden_Ratio'])\n",
    "\n",
    "#Finding the country assosciated with the max value of 'Golden_Ratio' column\n",
    "winter_country_gold=winter_df.loc[winter_df['Golden_Ratio'].idxmax(),'Country_Name']\n",
    "\n",
    "print(\"Top Winter Country:\", winter_country_gold, \" with a ratio of %.2f\" %winter_max_ratio )\n",
    "\n",
    "\n",
    "#For Overall List\n",
    "\n",
    "#Creating new column 'Golden_Ratio'\n",
    "top_df['Golden_Ratio']=top_df['Gold_Total']/top_df['Total_Medals']\n",
    "\n",
    "#Finding the max value of 'Golden_Ratio' column\n",
    "top_max_ratio=max(top_df['Golden_Ratio'])\n",
    "\n",
    "#Finding the country assosciated with the max value of 'Golden_Ratio' column\n",
    "top_country_gold=top_df.loc[top_df['Golden_Ratio'].idxmax(),'Country_Name']\n",
    "\n",
    "print(\"Top Country:\", top_country_gold, \" with a ratio of %.2f\" %top_max_ratio )\n",
    "\n",
    "\n",
    "#Code ends here"
   ]
  },
  {
   "cell_type": "markdown",
   "metadata": {},
   "source": [
    "### Best in the world\n",
    "Winning Gold is great but is winning most gold equivalent to being the best overall perfomer? Let's find out.\n",
    "Winning Gold is great but is winning most gold equivalent to being the best overall perfomer? Let's find out.\n",
    "\n",
    "Instructions :\n",
    "Drop the last row from the dataframe(The last row contains the total of all the values calculated vertically) and save the result in 'data_1'\n",
    "\n",
    "Update the dataframe 'data_1' to include a new column called Total_Points which is a weighted value where each gold medal counts for 3 points, silver medals for 2 points, and bronze medals for 1 point.(i.e. You need to take weighted value of Gold_Total, Silver_Total and Bronze_Total)\n",
    "\n",
    "Find the max value of Total_Points in 'data_1' and the country assosciated with it and store it in variables 'most_points' and 'best_country' respectively."
   ]
  },
  {
   "cell_type": "code",
   "execution_count": 6,
   "metadata": {
    "scrolled": true
   },
   "outputs": [],
   "source": [
    "data_1=data.drop(data.tail(1).index)\n",
    "data_1['Total_Points'] = (data_1['Gold_Total'].astype(int)*3 + data_1['Silver_Total'].astype(int)*2 + data_1['Bronze_Total'].astype(int)*1)\n",
    "most_points=max(data_1['Total_Points'])\n",
    "best_country=data_1.loc[data_1['Total_Points'].idxmax(),'Country_Name']"
   ]
  },
  {
   "cell_type": "code",
   "execution_count": 13,
   "metadata": {},
   "outputs": [
    {
     "name": "stdout",
     "output_type": "stream",
     "text": [
      "The maximum points achieved is  5684  by  United States\n"
     ]
    },
    {
     "name": "stderr",
     "output_type": "stream",
     "text": [
      "C:\\ProgramData\\Anaconda3\\lib\\site-packages\\ipykernel_launcher.py:8: SettingWithCopyWarning: \n",
      "A value is trying to be set on a copy of a slice from a DataFrame.\n",
      "Try using .loc[row_indexer,col_indexer] = value instead\n",
      "\n",
      "See the caveats in the documentation: http://pandas.pydata.org/pandas-docs/stable/indexing.html#indexing-view-versus-copy\n",
      "  \n"
     ]
    }
   ],
   "source": [
    "#Code starts here\n",
    "\n",
    "\n",
    "#Removing the last column of the dataframe\n",
    "data_1=data[:-1]\n",
    "\n",
    "#Creating a new column 'Total_Points'\n",
    "data_1['Total_Points']= data_1['Gold_Total']*3 + data_1['Silver_Total']*2 + data_1['Bronze_Total']*1  # Use of position index to handle the ambiguity of having same name columns\n",
    "\n",
    "\n",
    "#Finding the maximum value of 'Total_Points' column\n",
    "most_points=max(data_1['Total_Points'])\n",
    "\n",
    "#Finding the country assosciated with the max value of 'Total_Column' column\n",
    "best_country=data_1.loc[data_1['Total_Points'].idxmax(),'Country_Name']\n",
    "print('The maximum points achieved is ', most_points, ' by ', best_country )\n",
    "\n",
    "#Code ends here"
   ]
  },
  {
   "cell_type": "markdown",
   "metadata": {},
   "source": [
    "### Plot for the best\n",
    "We know which country is best when it comes to winning the most points in Olympic Games. Let's plot the medal count to visualise their success better.\n",
    "We know which country is best when it comes to winning the most points in Olympic Games. Let's plot the medal count to visualise their success better.\n",
    "\n",
    "Instructions\n",
    "Create a single row dataframe called 'best' from 'data' where value of column Country_Name is equal to 'best_country'(The variable you created in the previous task)\n",
    "\n",
    "Subset 'best' even further by only including the columns : ['Gold_Total','Silver_Total','Bronze_Total']\n",
    "\n",
    "Create a stacked bar plot of 'best' using \"DataFrame.plot.bar()\" function\n",
    "\n",
    "Name the x-axis as United States using \"plt.xlabel()\"\n",
    "\n",
    "Name the y-axis as Medals Tally using \"plt.ylabel()\"\n",
    "\n",
    "Rotate the labels of x-axis by 45o using \"plt.xticks()\""
   ]
  },
  {
   "cell_type": "code",
   "execution_count": 35,
   "metadata": {},
   "outputs": [
    {
     "data": {
      "image/png": "[encoded data removed]",
      "text/plain": [
       "<Figure size 1008x1080 with 1 Axes>"
      ]
     },
     "metadata": {
      "needs_background": "light"
     },
     "output_type": "display_data"
    }
   ],
   "source": [
    "best = data[data['Country_Name']==best_country]\n",
    "\n",
    "best = best.loc[:,['Gold_Total','Silver_Total','Bronze_Total']]\n",
    "\n",
    "best.plot(kind='bar', stacked=True, figsize = (14,15))\n",
    "plt.xlabel('United States')\n",
    "plt.ylabel('Medals Tally')\n",
    "plt.xticks(rotation = 45)\n",
    "plt.show()"
   ]
  },
  {
   "cell_type": "code",
   "execution_count": null,
   "metadata": {},
   "outputs": [],
   "source": []
  },
  {
   "cell_type": "code",
   "execution_count": null,
   "metadata": {},
   "outputs": [],
   "source": []
  },
  {
   "cell_type": "markdown",
   "metadata": {},
   "source": [
    "### Exercise......."
   ]
  },
  {
   "cell_type": "code",
   "execution_count": 90,
   "metadata": {},
   "outputs": [
    {
     "data": {
      "text/html": [
       "<div>\n",
       "<style scoped>\n",
       "    .dataframe tbody tr th:only-of-type {\n",
       "        vertical-align: middle;\n",
       "    }\n",
       "\n",
       "    .dataframe tbody tr th {\n",
       "        vertical-align: top;\n",
       "    }\n",
       "\n",
       "    .dataframe thead th {\n",
       "        text-align: right;\n",
       "    }\n",
       "</style>\n",
       "<table border=\"1\" class=\"dataframe\">\n",
       "  <thead>\n",
       "    <tr style=\"text-align: right;\">\n",
       "      <th></th>\n",
       "      <th>num_legs</th>\n",
       "      <th>num_wings</th>\n",
       "      <th>num_specimen_seen</th>\n",
       "      <th>Total_Points</th>\n",
       "    </tr>\n",
       "  </thead>\n",
       "  <tbody>\n",
       "    <tr>\n",
       "      <th>falcon</th>\n",
       "      <td>2</td>\n",
       "      <td>2</td>\n",
       "      <td>10</td>\n",
       "      <td>20</td>\n",
       "    </tr>\n",
       "    <tr>\n",
       "      <th>dog</th>\n",
       "      <td>4</td>\n",
       "      <td>0</td>\n",
       "      <td>2</td>\n",
       "      <td>14</td>\n",
       "    </tr>\n",
       "    <tr>\n",
       "      <th>spider</th>\n",
       "      <td>8</td>\n",
       "      <td>0</td>\n",
       "      <td>1</td>\n",
       "      <td>25</td>\n",
       "    </tr>\n",
       "    <tr>\n",
       "      <th>fish</th>\n",
       "      <td>0</td>\n",
       "      <td>0</td>\n",
       "      <td>8</td>\n",
       "      <td>8</td>\n",
       "    </tr>\n",
       "  </tbody>\n",
       "</table>\n",
       "</div>"
      ],
      "text/plain": [
       "        num_legs  num_wings  num_specimen_seen  Total_Points\n",
       "falcon         2          2                 10            20\n",
       "dog            4          0                  2            14\n",
       "spider         8          0                  1            25\n",
       "fish           0          0                  8             8"
      ]
     },
     "execution_count": 90,
     "metadata": {},
     "output_type": "execute_result"
    }
   ],
   "source": [
    "df = pd.DataFrame({'num_legs': [2, 4, 8, 0],'num_wings': [2, 0, 0, 0],'num_specimen_seen': [10, 2, 1, 8]}, \n",
    "                  index=['falcon', 'dog', 'spider', 'fish'])\n",
    "#df,last_row=df.drop(df.tail(1).index),df.tail(1)\n",
    "df['Total_Points'] = (df['num_legs'].astype(int)*3 + df['num_wings'].astype(int)*2 + df['num_specimen_seen'].astype(int)*1)\n",
    "df"
   ]
  },
  {
   "cell_type": "code",
   "execution_count": 26,
   "metadata": {},
   "outputs": [
    {
     "name": "stdout",
     "output_type": "stream",
     "text": [
      "The dataframe:\n",
      "    ID  Score\n",
      "0   1     33\n",
      "1   2     92\n",
      "2   3     26\n",
      "3   4     75\n",
      "4   5     80\n",
      "df having top 3 scores:\n",
      "   ID  Score\n",
      "1   2     92\n",
      "4   5     80\n",
      "3   4     75\n",
      "IDs associated to top 3:\n",
      "[2, 5, 4]\n"
     ]
    }
   ],
   "source": [
    "df = pd.DataFrame({'ID': [1, 2, 3, 4, 5],\n",
    "                 'Score': [33, 92, 26, 75, 80]})\n",
    "\n",
    "print(\"The dataframe:\\n\",df)\n",
    "# Filtering the 3 largest scores and getting the IDs associated with it\n",
    "top_3=df.nlargest(3, 'Score')\n",
    "print(\"df having top 3 scores:\")\n",
    "print(top_3)\n",
    "print(\"IDs associated to top 3:\")\n",
    "print(list(top_3['ID']))"
   ]
  }
 ],
 "metadata": {
  "kernelspec": {
   "display_name": "Python 3",
   "language": "python",
   "name": "python3"
  },
  "language_info": {
   "codemirror_mode": {
    "name": "ipython",
    "version": 3
   },
   "file_extension": ".py",
   "mimetype": "text/x-python",
   "name": "python",
   "nbconvert_exporter": "python",
   "pygments_lexer": "ipython3",
   "version": "3.7.3"
  }
 },
 "nbformat": 4,
 "nbformat_minor": 2
}
